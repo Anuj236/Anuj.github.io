{
  "nbformat": 4,
  "nbformat_minor": 0,
  "metadata": {
    "colab": {
      "name": "AnujMishra.ipynb",
      "provenance": [],
      "collapsed_sections": []
    },
    "kernelspec": {
      "name": "python3",
      "display_name": "Python 3"
    },
    "language_info": {
      "name": "python"
    }
  },
  "cells": [
    {
      "cell_type": "code",
      "metadata": {
        "colab": {
          "base_uri": "https://localhost:8080/"
        },
        "id": "wmTZLsIuGLBd",
        "outputId": "44f5dd5d-683b-4d69-be28-9ead5180ab11"
      },
      "source": [
        "import requests\n",
        "from datetime import datetime\n",
        "\n",
        "api_key='2677320bbd059f518ef421d58723146b'\n",
        "location= input(\"Enter the city name:\")\n",
        "\n",
        "complete_api_link = \"https://api.openweathermap.org/data/2.5/weather?q=\"+location+\"&appid=\"+api_key\n",
        "api_link = requests.get(complete_api_link)\n",
        "api_data = api_link.json()\n",
        "\n",
        "\n",
        "temp_city=((api_data['main']['temp'])-273.15)\n",
        "weather_desc =api_data['weather'][0]['description']\n",
        "hmdt= api_data['main']['humidity']\n",
        "wind_spd= api_data['wind']['speed']\n",
        "date_time =datetime.now().strftime(\"%d %b %Y | %I:%M:%S %p\")\n",
        "\n",
        "print(\"--------------------------------------------------------------\")\n",
        "print(\"Weather Stats for - {} || {}\".format(location.upper(), date_time))\n",
        "print(\"--------------------------------------------------------------\")\n",
        "\n",
        "print(\"Current temperature is: {:.2f} deg C\".format(temp_city))\n",
        "print(\"Current weather desc : \", weather_desc)\n",
        "print(\"Current Humidity :\", hmdt, '%')\n",
        "print(\"Current wind speed :\", wind_spd, 'kmph')\n",
        "\n",
        "print(\"================================================================\")\n",
        "\n",
        "txtlist= [temp_city,weather_desc,hmdt,wind_spd,date_time]\n",
        "with open(\"textfile.txt\", mode= 'w', encoding= 'utf-8') as f :\n",
        "    \n",
        "    f.write(\"---------------------------------------------------\\n\")\n",
        "    f.write(\"Weather Stats for - {} || {}\".format(location.upper(), date_time))\n",
        "    f.write(\"\\n-------------------------------------------------\\n\")\n",
        "    f.write(\"Current temperature is: {:.2f} deg C\\n\".format(txtlist[0]))\n",
        "\n",
        "    f.write(\"{},{} \\n\".format(\"Current weather desc :\" ,txtlist[1]))\n",
        "    f.write(\"{},{},{} \\n\" .format(\"Current Humidity :\" ,txtlist[2], \"%\"))\n",
        "    f.write(\"{},{},{} \\n\" .format(\"Current wind speed :\",txtlist[3],\"kmph\"))\n",
        "    f.write(\"======================================================\")\n",
        "\n",
        "     "
      ],
      "execution_count": 4,
      "outputs": [
        {
          "output_type": "stream",
          "text": [
            "Enter the city name:ranchi\n",
            "--------------------------------------------------------------\n",
            "Weather Stats for - RANCHI || 28 Jul 2021 | 08:50:31 AM\n",
            "--------------------------------------------------------------\n",
            "Current temperature is: 29.06 deg C\n",
            "Current weather desc :  haze\n",
            "Current Humidity : 79 %\n",
            "Current wind speed : 4.12 kmph\n",
            "================================================================\n"
          ],
          "name": "stdout"
        }
      ]
    }
  ]
}